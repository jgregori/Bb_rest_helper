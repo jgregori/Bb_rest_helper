{
 "cells": [
  {
   "cell_type": "markdown",
   "metadata": {},
   "source": [
    "# Starter notebook for the Bb_rest_Helper library.\n",
    "Jupyter notebooks are great for research of the API inner works as it is easy to break down functionality in code cells."
   ]
  },
  {
   "cell_type": "code",
   "execution_count": null,
   "metadata": {},
   "outputs": [],
   "source": [
    "#imports.\n",
    "from Bb_rest_helper import Bb_Utils\n",
    "from Bb_rest_helper import Get_Config\n",
    "from Bb_rest_helper import Auth_Helper\n",
    "from Bb_rest_helper import Bb_Requests\n",
    "\n",
    "#logging and utils initialization.\n",
    "utils = Bb_Utils()\n",
    "utils.set_logging()\n",
    "\n",
    "#Authenticate and get the token (Learn).\n",
    "quick_auth_learn = utils.quick_auth('../credentials/config.json')\n",
    "\n",
    "#Retrieve token and server url\n",
    "learn_token = quick_auth_learn['token']\n",
    "learn_url = quick_auth_learn['url']\n",
    "\n",
    "print(learn_token,learn_url)\n",
    "\n",
    "#Initialize Rest API calls\n",
    "reqs = Bb_Requests()"
   ]
  }
 ],
 "metadata": {
  "kernelspec": {
   "display_name": ".venv",
   "language": "python",
   "name": "python3"
  },
  "language_info": {
   "codemirror_mode": {
    "name": "ipython",
    "version": 3
   },
   "file_extension": ".py",
   "mimetype": "text/x-python",
   "name": "python",
   "nbconvert_exporter": "python",
   "pygments_lexer": "ipython3",
   "version": "3.11.0 (v3.11.0:deaf509e8f, Oct 24 2022, 14:43:23) [Clang 13.0.0 (clang-1300.0.29.30)]"
  },
  "orig_nbformat": 4,
  "vscode": {
   "interpreter": {
    "hash": "ad8be12df1c9f8b1d917a5edcb12426ae22ad25c3864c509b31d652d18a8375a"
   }
  }
 },
 "nbformat": 4,
 "nbformat_minor": 2
}
