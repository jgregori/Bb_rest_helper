{
 "cells": [
  {
   "cell_type": "markdown",
   "metadata": {},
   "source": [
    "# Starter notebook for the Bb_rest_Helper library.\n",
    "Jupyter notebooks are great for research of the API inner works as it is easy to break down functionality in code cells."
   ]
  },
  {
   "cell_type": "code",
   "execution_count": null,
   "metadata": {},
   "outputs": [],
   "source": [
    "#imports.\n",
    "from Bb_rest_helper import Bb_Utils\n",
    "from Bb_rest_helper import Get_Config\n",
    "from Bb_rest_helper import Auth_Helper\n",
    "from Bb_rest_helper import Bb_Requests\n",
    "\n",
    "#logging and utils initialization.\n",
    "utils = Bb_Utils()\n",
    "utils.set_logging()\n",
    "\n",
    "#Authenticate and get the token (Learn).\n",
    "quick_auth_learn = utils.quick_auth('./credentials/config.json','Learn')\n",
    "\n",
    "#Retrieve token and server url\n",
    "learn_token = quick_auth_learn['token']\n",
    "learn_url = quick_auth_learn['url']\n",
    "\n",
    "print(learn_token,learn_url)\n",
    "\n",
    "#Initialize Rest API calls\n",
    "reqs = Bb_Requests()"
   ]
  },
  {
   "cell_type": "code",
   "execution_count": null,
   "metadata": {},
   "outputs": [],
   "source": [
    "# Your code here"
   ]
  }
 ],
 "metadata": {
  "language_info": {
   "name": "python"
  },
  "orig_nbformat": 4
 },
 "nbformat": 4,
 "nbformat_minor": 2
}
