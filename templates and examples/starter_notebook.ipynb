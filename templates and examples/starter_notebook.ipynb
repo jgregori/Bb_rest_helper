{
 "cells": [
  {
   "cell_type": "markdown",
   "metadata": {},
   "source": [
    "# Starter notebook for the Bb_rest_Helper library.\n",
    "Jupyter notebooks are great for research of the API inner works as it is easy to break down functionality in code cells."
   ]
  },
  {
   "cell_type": "code",
   "execution_count": null,
   "metadata": {},
   "outputs": [],
   "source": [
    "#imports.\n",
    "from Bb_rest_helper import Bb_Utils\n",
    "from Bb_rest_helper import Get_Config\n",
    "from Bb_rest_helper import Auth_Helper\n",
    "from Bb_rest_helper import Bb_Requests\n",
    "\n",
    "#logging and utils initialization.\n",
    "utils = Bb_Utils()\n",
    "utils.set_logging()\n",
    "\n",
    "#Authenticate and get the token (Learn).\n",
    "#V3 updates this method so passing the platform as an argument is no longer needed.\n",
    "#Leaving as V2 until V3 is relased\n",
    "quick_auth_learn = utils.quick_auth('./credentials/config.json','Learn')\n",
    "\n",
    "#Retrieve token and server url\n",
    "learn_token = quick_auth_learn['token']\n",
    "learn_url = quick_auth_learn['url']\n",
    "\n",
    "print(learn_token,learn_url)\n",
    "\n",
    "#Initialize Rest API calls\n",
    "reqs = Bb_Requests()"
   ]
  },
  {
   "cell_type": "code",
   "execution_count": null,
   "metadata": {},
   "outputs": [],
   "source": [
    "# Your code here"
   ]
  }
 ],
 "metadata": {
  "kernelspec": {
   "display_name": "Python 3.9.4 64-bit",
   "language": "python",
   "name": "python3"
  },
  "language_info": {
   "codemirror_mode": {
    "name": "ipython",
    "version": 3
   },
   "file_extension": ".py",
   "mimetype": "text/x-python",
   "name": "python",
   "nbconvert_exporter": "python",
   "pygments_lexer": "ipython3",
   "version": "3.9.4"
  },
  "orig_nbformat": 4,
  "vscode": {
   "interpreter": {
    "hash": "aee8b7b246df8f9039afb4144a1f6fd8d2ca17a180786b69acc140d282b71a49"
   }
  }
 },
 "nbformat": 4,
 "nbformat_minor": 2
}
